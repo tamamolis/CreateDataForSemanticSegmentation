{
 "cells": [
  {
   "cell_type": "code",
   "execution_count": 1,
   "metadata": {},
   "outputs": [],
   "source": [
    "import os\n",
    "import cv2\n",
    "import numpy as np\n",
    "import time\n",
    "\n",
    "# синий, зелёный, жёлтый, белый, бирюзовый, magenta, красный\n",
    "legend_list = [[0, 0, 255], [0, 255, 0], [255, 255, 0], [255, 255, 255], [0, 255, 255], [255, 0, 255], [255, 0, 0]]"
   ]
  },
  {
   "cell_type": "code",
   "execution_count": 2,
   "metadata": {},
   "outputs": [],
   "source": [
    "def euclidean_metric(inp):\n",
    "    # евклидова метрика\n",
    "    total = 100000\n",
    "    new_total = -1\n",
    "    index = -1\n",
    "\n",
    "    for legend in legend_list:\n",
    "        new_total = np.linalg.norm(np.array(legend) - inp)\n",
    "        if new_total < total:\n",
    "            total = new_total\n",
    "            index = legend_list.index(legend)\n",
    "    return index"
   ]
  },
  {
   "cell_type": "code",
   "execution_count": 3,
   "metadata": {},
   "outputs": [],
   "source": [
    "def combain(path):\n",
    "    files = os.listdir(path)\n",
    "    start = time.time()\n",
    "    print(\"start time!\")\n",
    "    for file in files:\n",
    "        \n",
    "        img = cv2.imread(path + file)\n",
    "        h, w, channels = img.shape\n",
    "\n",
    "        print('ширина и высота: ', w, h)\n",
    "        print(path)\n",
    "        \n",
    "        for y in range(0, w):\n",
    "            for x in range(0, h):\n",
    "                index = euclidean_metric(img[x][y])\n",
    "                if int(index) == 2: # бирюзовый \n",
    "                    img[x][y][0] = 255 # перекрасили в белый\n",
    "                    img[x][y][1] = 255\n",
    "                    img[x][y][2] = 255\n",
    "                if int(index) == 5: # magenta\n",
    "                    img[x][y][0] = 255 # перекрасили в белый\n",
    "                    img[x][y][1] = 255\n",
    "                    img[x][y][2] = 255\n",
    "                if int(index) == 3: # неточный белый перекрашиваем в точный белый\n",
    "                    img[x][y][0] = 255 # перекрасили в белый\n",
    "                    img[x][y][1] = 255\n",
    "                    img[x][y][2] = 255\n",
    "                ####### теперь надо перекрасить цвета в свои же цвета для уточнения маски\n",
    "                if int(index) == 1: # зелёный \n",
    "                    img[x][y][0] = 0\n",
    "                    img[x][y][1] = 255\n",
    "                    img[x][y][2] = 0\n",
    "                if int(index) == 4: # \n",
    "                    img[x][y][0] = 0\n",
    "                    img[x][y][1] = 255\n",
    "                    img[x][y][2] = 255\n",
    "                if int(index) == 6: # красный\n",
    "                    img[x][y][0] = 255\n",
    "                    img[x][y][1] = 0\n",
    "                    img[x][y][2] = 0\n",
    "                if int(index) == 0: # синий\n",
    "                    img[x][y][0] = 0\n",
    "                    img[x][y][1] = 0\n",
    "                    img[x][y][2] = 255    \n",
    "        cv2.imwrite(path + file, img)\n",
    "        end = time.time()\n",
    "        print('end time! ', end - start)"
   ]
  },
  {
   "cell_type": "raw",
   "metadata": {},
   "source": [
    "os.system(\"find /Users/kate/PycharmProjects/make_data -name '.DS_Store' -delete\")\n",
    "path = 'VGG_Unet_UNITE_COLORS/mask/'\n",
    "combain(path)"
   ]
  },
  {
   "cell_type": "code",
   "execution_count": null,
   "metadata": {},
   "outputs": [],
   "source": []
  }
 ],
 "metadata": {
  "kernelspec": {
   "display_name": "Python 3",
   "language": "python",
   "name": "python3"
  },
  "language_info": {
   "codemirror_mode": {
    "name": "ipython",
    "version": 3
   },
   "file_extension": ".py",
   "mimetype": "text/x-python",
   "name": "python",
   "nbconvert_exporter": "python",
   "pygments_lexer": "ipython3",
   "version": "3.7.0"
  }
 },
 "nbformat": 4,
 "nbformat_minor": 2
}
